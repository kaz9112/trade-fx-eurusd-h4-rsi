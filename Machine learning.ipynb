{
 "cells": [
  {
   "cell_type": "code",
   "execution_count": 1,
   "metadata": {},
   "outputs": [],
   "source": [
    "# Import Libraries\n",
    "import numpy as np\n",
    "import pandas as pd\n",
    "import matplotlib.pyplot as plt\n",
    "\n",
    "from sklearn.model_selection import train_test_split\n",
    "from sklearn.ensemble import RandomForestClassifier\n",
    "from sklearn.metrics import precision_score, classification_report, ConfusionMatrixDisplay, confusion_matrix\n",
    "from sklearn.model_selection import cross_val_score\n",
    "from sklearn.preprocessing import MinMaxScaler, OneHotEncoder, StandardScaler\n",
    "\n",
    "import joblib\n",
    "import json\n",
    "import warnings\n",
    "warnings.simplefilter(\"ignore\")"
   ]
  },
  {
   "cell_type": "markdown",
   "metadata": {},
   "source": [
    "# I. Load the backtested trading data"
   ]
  },
  {
   "cell_type": "code",
   "execution_count": 2,
   "metadata": {},
   "outputs": [
    {
     "data": {
      "text/html": [
       "<div>\n",
       "<style scoped>\n",
       "    .dataframe tbody tr th:only-of-type {\n",
       "        vertical-align: middle;\n",
       "    }\n",
       "\n",
       "    .dataframe tbody tr th {\n",
       "        vertical-align: top;\n",
       "    }\n",
       "\n",
       "    .dataframe thead th {\n",
       "        text-align: right;\n",
       "    }\n",
       "</style>\n",
       "<table border=\"1\" class=\"dataframe\">\n",
       "  <thead>\n",
       "    <tr style=\"text-align: right;\">\n",
       "      <th></th>\n",
       "      <th>EntryPrice</th>\n",
       "      <th>win_loss</th>\n",
       "      <th>long_short</th>\n",
       "      <th>entry_month</th>\n",
       "      <th>entry_date</th>\n",
       "      <th>entry_day</th>\n",
       "      <th>entry_hour</th>\n",
       "    </tr>\n",
       "  </thead>\n",
       "  <tbody>\n",
       "    <tr>\n",
       "      <th>0</th>\n",
       "      <td>1.3566</td>\n",
       "      <td>loss</td>\n",
       "      <td>short</td>\n",
       "      <td>4</td>\n",
       "      <td>23</td>\n",
       "      <td>0</td>\n",
       "      <td>8</td>\n",
       "    </tr>\n",
       "    <tr>\n",
       "      <th>1</th>\n",
       "      <td>1.3566</td>\n",
       "      <td>loss</td>\n",
       "      <td>short</td>\n",
       "      <td>4</td>\n",
       "      <td>23</td>\n",
       "      <td>0</td>\n",
       "      <td>8</td>\n",
       "    </tr>\n",
       "    <tr>\n",
       "      <th>2</th>\n",
       "      <td>1.3568</td>\n",
       "      <td>loss</td>\n",
       "      <td>short</td>\n",
       "      <td>4</td>\n",
       "      <td>24</td>\n",
       "      <td>1</td>\n",
       "      <td>0</td>\n",
       "    </tr>\n",
       "    <tr>\n",
       "      <th>3</th>\n",
       "      <td>1.3568</td>\n",
       "      <td>loss</td>\n",
       "      <td>short</td>\n",
       "      <td>4</td>\n",
       "      <td>24</td>\n",
       "      <td>1</td>\n",
       "      <td>0</td>\n",
       "    </tr>\n",
       "    <tr>\n",
       "      <th>4</th>\n",
       "      <td>1.3568</td>\n",
       "      <td>loss</td>\n",
       "      <td>short</td>\n",
       "      <td>4</td>\n",
       "      <td>24</td>\n",
       "      <td>1</td>\n",
       "      <td>0</td>\n",
       "    </tr>\n",
       "  </tbody>\n",
       "</table>\n",
       "</div>"
      ],
      "text/plain": [
       "   EntryPrice win_loss long_short  entry_month  entry_date  entry_day  \\\n",
       "0      1.3566     loss      short            4          23          0   \n",
       "1      1.3566     loss      short            4          23          0   \n",
       "2      1.3568     loss      short            4          24          1   \n",
       "3      1.3568     loss      short            4          24          1   \n",
       "4      1.3568     loss      short            4          24          1   \n",
       "\n",
       "   entry_hour  \n",
       "0           8  \n",
       "1           8  \n",
       "2           0  \n",
       "3           0  \n",
       "4           0  "
      ]
     },
     "execution_count": 2,
     "metadata": {},
     "output_type": "execute_result"
    }
   ],
   "source": [
    "# load data\n",
    "raw_data = pd.read_csv('trades_data.csv')\n",
    "raw_data.head()"
   ]
  },
  {
   "cell_type": "code",
   "execution_count": 3,
   "metadata": {},
   "outputs": [
    {
     "data": {
      "text/html": [
       "<div>\n",
       "<style scoped>\n",
       "    .dataframe tbody tr th:only-of-type {\n",
       "        vertical-align: middle;\n",
       "    }\n",
       "\n",
       "    .dataframe tbody tr th {\n",
       "        vertical-align: top;\n",
       "    }\n",
       "\n",
       "    .dataframe thead th {\n",
       "        text-align: right;\n",
       "    }\n",
       "</style>\n",
       "<table border=\"1\" class=\"dataframe\">\n",
       "  <thead>\n",
       "    <tr style=\"text-align: right;\">\n",
       "      <th></th>\n",
       "      <th>EntryPrice</th>\n",
       "      <th>entry_month</th>\n",
       "      <th>entry_date</th>\n",
       "      <th>entry_day</th>\n",
       "      <th>entry_hour</th>\n",
       "    </tr>\n",
       "  </thead>\n",
       "  <tbody>\n",
       "    <tr>\n",
       "      <th>count</th>\n",
       "      <td>2443.000000</td>\n",
       "      <td>2443.000000</td>\n",
       "      <td>2443.000000</td>\n",
       "      <td>2443.000000</td>\n",
       "      <td>2443.000000</td>\n",
       "    </tr>\n",
       "    <tr>\n",
       "      <th>mean</th>\n",
       "      <td>1.259341</td>\n",
       "      <td>6.767090</td>\n",
       "      <td>15.620958</td>\n",
       "      <td>2.109701</td>\n",
       "      <td>10.167826</td>\n",
       "    </tr>\n",
       "    <tr>\n",
       "      <th>std</th>\n",
       "      <td>0.131127</td>\n",
       "      <td>3.453237</td>\n",
       "      <td>8.706682</td>\n",
       "      <td>1.635073</td>\n",
       "      <td>5.874165</td>\n",
       "    </tr>\n",
       "    <tr>\n",
       "      <th>min</th>\n",
       "      <td>1.039650</td>\n",
       "      <td>1.000000</td>\n",
       "      <td>1.000000</td>\n",
       "      <td>0.000000</td>\n",
       "      <td>0.000000</td>\n",
       "    </tr>\n",
       "    <tr>\n",
       "      <th>25%</th>\n",
       "      <td>1.133285</td>\n",
       "      <td>4.000000</td>\n",
       "      <td>8.000000</td>\n",
       "      <td>1.000000</td>\n",
       "      <td>8.000000</td>\n",
       "    </tr>\n",
       "    <tr>\n",
       "      <th>50%</th>\n",
       "      <td>1.256750</td>\n",
       "      <td>7.000000</td>\n",
       "      <td>15.000000</td>\n",
       "      <td>2.000000</td>\n",
       "      <td>12.000000</td>\n",
       "    </tr>\n",
       "    <tr>\n",
       "      <th>75%</th>\n",
       "      <td>1.359370</td>\n",
       "      <td>10.000000</td>\n",
       "      <td>23.000000</td>\n",
       "      <td>3.000000</td>\n",
       "      <td>16.000000</td>\n",
       "    </tr>\n",
       "    <tr>\n",
       "      <th>max</th>\n",
       "      <td>1.592810</td>\n",
       "      <td>12.000000</td>\n",
       "      <td>31.000000</td>\n",
       "      <td>6.000000</td>\n",
       "      <td>20.000000</td>\n",
       "    </tr>\n",
       "  </tbody>\n",
       "</table>\n",
       "</div>"
      ],
      "text/plain": [
       "        EntryPrice  entry_month   entry_date    entry_day   entry_hour\n",
       "count  2443.000000  2443.000000  2443.000000  2443.000000  2443.000000\n",
       "mean      1.259341     6.767090    15.620958     2.109701    10.167826\n",
       "std       0.131127     3.453237     8.706682     1.635073     5.874165\n",
       "min       1.039650     1.000000     1.000000     0.000000     0.000000\n",
       "25%       1.133285     4.000000     8.000000     1.000000     8.000000\n",
       "50%       1.256750     7.000000    15.000000     2.000000    12.000000\n",
       "75%       1.359370    10.000000    23.000000     3.000000    16.000000\n",
       "max       1.592810    12.000000    31.000000     6.000000    20.000000"
      ]
     },
     "execution_count": 3,
     "metadata": {},
     "output_type": "execute_result"
    }
   ],
   "source": [
    "# data decription\n",
    "raw_data.describe()"
   ]
  },
  {
   "cell_type": "markdown",
   "metadata": {},
   "source": [
    "# II. Preprocessing"
   ]
  },
  {
   "cell_type": "markdown",
   "metadata": {},
   "source": [
    "## II.I. define dataframe for inferencing"
   ]
  },
  {
   "cell_type": "code",
   "execution_count": 4,
   "metadata": {},
   "outputs": [
    {
     "data": {
      "text/plain": [
       "122"
      ]
     },
     "execution_count": 4,
     "metadata": {},
     "output_type": "execute_result"
    }
   ],
   "source": [
    "# Define how many inferences we want to generate\n",
    "inf_count =  round(raw_data.shape[0]*0.05)\n",
    "inf_count"
   ]
  },
  {
   "cell_type": "code",
   "execution_count": 5,
   "metadata": {},
   "outputs": [
    {
     "data": {
      "text/html": [
       "<div>\n",
       "<style scoped>\n",
       "    .dataframe tbody tr th:only-of-type {\n",
       "        vertical-align: middle;\n",
       "    }\n",
       "\n",
       "    .dataframe tbody tr th {\n",
       "        vertical-align: top;\n",
       "    }\n",
       "\n",
       "    .dataframe thead th {\n",
       "        text-align: right;\n",
       "    }\n",
       "</style>\n",
       "<table border=\"1\" class=\"dataframe\">\n",
       "  <thead>\n",
       "    <tr style=\"text-align: right;\">\n",
       "      <th></th>\n",
       "      <th>EntryPrice</th>\n",
       "      <th>win_loss</th>\n",
       "      <th>long_short</th>\n",
       "      <th>entry_month</th>\n",
       "      <th>entry_date</th>\n",
       "      <th>entry_day</th>\n",
       "      <th>entry_hour</th>\n",
       "    </tr>\n",
       "  </thead>\n",
       "  <tbody>\n",
       "    <tr>\n",
       "      <th>523</th>\n",
       "      <td>1.34612</td>\n",
       "      <td>win</td>\n",
       "      <td>long</td>\n",
       "      <td>4</td>\n",
       "      <td>5</td>\n",
       "      <td>0</td>\n",
       "      <td>0</td>\n",
       "    </tr>\n",
       "    <tr>\n",
       "      <th>2104</th>\n",
       "      <td>1.10620</td>\n",
       "      <td>win</td>\n",
       "      <td>short</td>\n",
       "      <td>11</td>\n",
       "      <td>21</td>\n",
       "      <td>3</td>\n",
       "      <td>16</td>\n",
       "    </tr>\n",
       "    <tr>\n",
       "      <th>739</th>\n",
       "      <td>1.33553</td>\n",
       "      <td>loss</td>\n",
       "      <td>short</td>\n",
       "      <td>10</td>\n",
       "      <td>5</td>\n",
       "      <td>2</td>\n",
       "      <td>12</td>\n",
       "    </tr>\n",
       "    <tr>\n",
       "      <th>104</th>\n",
       "      <td>1.43982</td>\n",
       "      <td>win</td>\n",
       "      <td>long</td>\n",
       "      <td>12</td>\n",
       "      <td>24</td>\n",
       "      <td>0</td>\n",
       "      <td>12</td>\n",
       "    </tr>\n",
       "    <tr>\n",
       "      <th>2323</th>\n",
       "      <td>1.20664</td>\n",
       "      <td>loss</td>\n",
       "      <td>short</td>\n",
       "      <td>4</td>\n",
       "      <td>28</td>\n",
       "      <td>2</td>\n",
       "      <td>4</td>\n",
       "    </tr>\n",
       "  </tbody>\n",
       "</table>\n",
       "</div>"
      ],
      "text/plain": [
       "      EntryPrice win_loss long_short  entry_month  entry_date  entry_day  \\\n",
       "523      1.34612      win       long            4           5          0   \n",
       "2104     1.10620      win      short           11          21          3   \n",
       "739      1.33553     loss      short           10           5          2   \n",
       "104      1.43982      win       long           12          24          0   \n",
       "2323     1.20664     loss      short            4          28          2   \n",
       "\n",
       "      entry_hour  \n",
       "523            0  \n",
       "2104          16  \n",
       "739           12  \n",
       "104           12  \n",
       "2323           4  "
      ]
     },
     "execution_count": 5,
     "metadata": {},
     "output_type": "execute_result"
    }
   ],
   "source": [
    "# Get Data for model inference\n",
    "data_inf = raw_data.sample(inf_count, random_state=33)\n",
    "data_inf.sample(5)"
   ]
  },
  {
   "cell_type": "markdown",
   "metadata": {},
   "source": [
    "## II.II. Split data"
   ]
  },
  {
   "cell_type": "code",
   "execution_count": 6,
   "metadata": {},
   "outputs": [],
   "source": [
    "# Copy the raw_data\n",
    "raw_data_1 = raw_data.copy()"
   ]
  },
  {
   "cell_type": "code",
   "execution_count": 7,
   "metadata": {},
   "outputs": [],
   "source": [
    "# define features variable as X\n",
    "X = raw_data_1.drop('win_loss', axis=1)"
   ]
  },
  {
   "cell_type": "code",
   "execution_count": 8,
   "metadata": {},
   "outputs": [
    {
     "data": {
      "text/plain": [
       "1396    loss\n",
       "830      win\n",
       "1769    loss\n",
       "27       win\n",
       "1470    loss\n",
       "Name: win_loss, dtype: object"
      ]
     },
     "execution_count": 8,
     "metadata": {},
     "output_type": "execute_result"
    }
   ],
   "source": [
    "# define target variable as y\n",
    "y = raw_data_1['win_loss']\n",
    "y.sample(5)"
   ]
  },
  {
   "cell_type": "code",
   "execution_count": 9,
   "metadata": {},
   "outputs": [
    {
     "name": "stdout",
     "output_type": "stream",
     "text": [
      "Train size: 2259\n",
      "Test size: 184\n"
     ]
    }
   ],
   "source": [
    "# Split the dataset\n",
    "X_train, X_test, y_train, y_test = train_test_split(X, y, test_size = 0.075, random_state=33, stratify=y)\n",
    "\n",
    "print(f'Train size: {X_train.shape[0]}')\n",
    "print(f'Test size: {X_test.shape[0]}')"
   ]
  },
  {
   "cell_type": "markdown",
   "metadata": {},
   "source": [
    "## II.III. Handling empty values"
   ]
  },
  {
   "cell_type": "code",
   "execution_count": 10,
   "metadata": {},
   "outputs": [
    {
     "data": {
      "text/plain": [
       "EntryPrice     0\n",
       "long_short     0\n",
       "entry_month    0\n",
       "entry_date     0\n",
       "entry_day      0\n",
       "entry_hour     0\n",
       "dtype: int64"
      ]
     },
     "execution_count": 10,
     "metadata": {},
     "output_type": "execute_result"
    }
   ],
   "source": [
    "# sum null value\n",
    "X_train.isnull().sum()"
   ]
  },
  {
   "cell_type": "markdown",
   "metadata": {},
   "source": [
    "## II.IV. Feature Scaling"
   ]
  },
  {
   "cell_type": "code",
   "execution_count": 11,
   "metadata": {},
   "outputs": [
    {
     "name": "stdout",
     "output_type": "stream",
     "text": [
      "Numerical Columns   :  ['EntryPrice', 'entry_month', 'entry_date', 'entry_day', 'entry_hour']\n",
      "Categorical Columns :  ['long_short']\n"
     ]
    }
   ],
   "source": [
    "# Get Numerical Columns and Categorical Columns\n",
    "\n",
    "num_columns = X_train.select_dtypes(include=np.number).columns.tolist()\n",
    "cat_columns = X_train.select_dtypes(include=['object']).columns.tolist()\n",
    "\n",
    "print('Numerical Columns   : ', num_columns)\n",
    "print('Categorical Columns : ', cat_columns)"
   ]
  },
  {
   "cell_type": "code",
   "execution_count": 12,
   "metadata": {},
   "outputs": [],
   "source": [
    "X_train_2 = X_train.copy()"
   ]
  },
  {
   "cell_type": "code",
   "execution_count": 13,
   "metadata": {},
   "outputs": [],
   "source": [
    "# # Define scaler using min max scaler\n",
    "# scaler = MinMaxScaler()\n",
    "\n",
    "# # fir and transform scaling\n",
    "# X_train_scaled = scaler.fit_transform(X_train_2[num_columns])\n",
    "# X_test_scaled = scaler.transform(X_test[num_columns])"
   ]
  },
  {
   "cell_type": "code",
   "execution_count": 14,
   "metadata": {},
   "outputs": [],
   "source": [
    "# Define scaler using standard scaler\n",
    "scaler = StandardScaler()\n",
    "\n",
    "# fir and transform scaling\n",
    "X_train_scaled = scaler.fit_transform(X_train_2[num_columns])\n",
    "X_test_scaled = scaler.transform(X_test[num_columns])"
   ]
  },
  {
   "cell_type": "markdown",
   "metadata": {},
   "source": [
    "## II.V. Feature Encoding"
   ]
  },
  {
   "cell_type": "code",
   "execution_count": 15,
   "metadata": {},
   "outputs": [],
   "source": [
    "# Define Encoder\n",
    "encoder = OneHotEncoder(sparse=False)\n",
    "\n",
    "# fit and transform scaling\n",
    "X_train_encoded = encoder.fit_transform(X_train_2[cat_columns])\n",
    "X_test_encoded = encoder.transform(X_test[cat_columns])"
   ]
  },
  {
   "cell_type": "code",
   "execution_count": 16,
   "metadata": {},
   "outputs": [
    {
     "data": {
      "text/plain": [
       "array([[1., 0.],\n",
       "       [0., 1.],\n",
       "       [0., 1.],\n",
       "       [1., 0.],\n",
       "       [1., 0.],\n",
       "       [1., 0.],\n",
       "       [1., 0.],\n",
       "       [1., 0.],\n",
       "       [1., 0.],\n",
       "       [0., 1.],\n",
       "       [0., 1.],\n",
       "       [0., 1.],\n",
       "       [0., 1.],\n",
       "       [1., 0.],\n",
       "       [1., 0.],\n",
       "       [0., 1.],\n",
       "       [1., 0.],\n",
       "       [1., 0.],\n",
       "       [1., 0.],\n",
       "       [0., 1.],\n",
       "       [0., 1.],\n",
       "       [0., 1.],\n",
       "       [0., 1.],\n",
       "       [0., 1.],\n",
       "       [0., 1.],\n",
       "       [0., 1.],\n",
       "       [0., 1.],\n",
       "       [1., 0.],\n",
       "       [1., 0.],\n",
       "       [1., 0.],\n",
       "       [0., 1.],\n",
       "       [1., 0.],\n",
       "       [0., 1.],\n",
       "       [1., 0.],\n",
       "       [1., 0.],\n",
       "       [0., 1.],\n",
       "       [0., 1.],\n",
       "       [1., 0.],\n",
       "       [1., 0.],\n",
       "       [1., 0.],\n",
       "       [0., 1.],\n",
       "       [1., 0.],\n",
       "       [1., 0.],\n",
       "       [0., 1.],\n",
       "       [1., 0.],\n",
       "       [0., 1.],\n",
       "       [0., 1.],\n",
       "       [1., 0.],\n",
       "       [1., 0.],\n",
       "       [1., 0.],\n",
       "       [0., 1.],\n",
       "       [0., 1.],\n",
       "       [0., 1.],\n",
       "       [0., 1.],\n",
       "       [1., 0.],\n",
       "       [1., 0.],\n",
       "       [1., 0.],\n",
       "       [1., 0.],\n",
       "       [1., 0.],\n",
       "       [1., 0.],\n",
       "       [1., 0.],\n",
       "       [0., 1.],\n",
       "       [1., 0.],\n",
       "       [1., 0.],\n",
       "       [0., 1.],\n",
       "       [1., 0.],\n",
       "       [1., 0.],\n",
       "       [1., 0.],\n",
       "       [1., 0.],\n",
       "       [1., 0.],\n",
       "       [1., 0.],\n",
       "       [1., 0.],\n",
       "       [0., 1.],\n",
       "       [0., 1.],\n",
       "       [0., 1.],\n",
       "       [0., 1.],\n",
       "       [0., 1.],\n",
       "       [0., 1.],\n",
       "       [0., 1.],\n",
       "       [1., 0.],\n",
       "       [1., 0.],\n",
       "       [0., 1.],\n",
       "       [1., 0.],\n",
       "       [1., 0.],\n",
       "       [1., 0.],\n",
       "       [0., 1.],\n",
       "       [1., 0.],\n",
       "       [1., 0.],\n",
       "       [1., 0.],\n",
       "       [0., 1.],\n",
       "       [0., 1.],\n",
       "       [1., 0.],\n",
       "       [0., 1.],\n",
       "       [1., 0.],\n",
       "       [1., 0.],\n",
       "       [1., 0.],\n",
       "       [1., 0.],\n",
       "       [1., 0.],\n",
       "       [0., 1.],\n",
       "       [0., 1.],\n",
       "       [1., 0.],\n",
       "       [1., 0.],\n",
       "       [0., 1.],\n",
       "       [0., 1.],\n",
       "       [1., 0.],\n",
       "       [0., 1.],\n",
       "       [1., 0.],\n",
       "       [0., 1.],\n",
       "       [1., 0.],\n",
       "       [1., 0.],\n",
       "       [0., 1.],\n",
       "       [0., 1.],\n",
       "       [1., 0.],\n",
       "       [1., 0.],\n",
       "       [1., 0.],\n",
       "       [0., 1.],\n",
       "       [0., 1.],\n",
       "       [0., 1.],\n",
       "       [1., 0.],\n",
       "       [0., 1.],\n",
       "       [0., 1.],\n",
       "       [0., 1.],\n",
       "       [1., 0.],\n",
       "       [1., 0.],\n",
       "       [1., 0.],\n",
       "       [1., 0.],\n",
       "       [0., 1.],\n",
       "       [1., 0.],\n",
       "       [0., 1.],\n",
       "       [1., 0.],\n",
       "       [1., 0.],\n",
       "       [0., 1.],\n",
       "       [1., 0.],\n",
       "       [1., 0.],\n",
       "       [1., 0.],\n",
       "       [0., 1.],\n",
       "       [1., 0.],\n",
       "       [1., 0.],\n",
       "       [1., 0.],\n",
       "       [1., 0.],\n",
       "       [0., 1.],\n",
       "       [0., 1.],\n",
       "       [0., 1.],\n",
       "       [0., 1.],\n",
       "       [0., 1.],\n",
       "       [1., 0.],\n",
       "       [0., 1.],\n",
       "       [0., 1.],\n",
       "       [1., 0.],\n",
       "       [1., 0.],\n",
       "       [0., 1.],\n",
       "       [0., 1.],\n",
       "       [0., 1.],\n",
       "       [1., 0.],\n",
       "       [0., 1.],\n",
       "       [0., 1.],\n",
       "       [0., 1.],\n",
       "       [1., 0.],\n",
       "       [0., 1.],\n",
       "       [0., 1.],\n",
       "       [0., 1.],\n",
       "       [1., 0.],\n",
       "       [1., 0.],\n",
       "       [1., 0.],\n",
       "       [1., 0.],\n",
       "       [1., 0.],\n",
       "       [0., 1.],\n",
       "       [0., 1.],\n",
       "       [0., 1.],\n",
       "       [0., 1.],\n",
       "       [1., 0.],\n",
       "       [0., 1.],\n",
       "       [1., 0.],\n",
       "       [0., 1.],\n",
       "       [0., 1.],\n",
       "       [0., 1.],\n",
       "       [1., 0.],\n",
       "       [0., 1.],\n",
       "       [0., 1.],\n",
       "       [0., 1.],\n",
       "       [0., 1.],\n",
       "       [1., 0.],\n",
       "       [1., 0.],\n",
       "       [1., 0.]])"
      ]
     },
     "execution_count": 16,
     "metadata": {},
     "output_type": "execute_result"
    }
   ],
   "source": [
    "# Summarize new encoded data\n",
    "X_test_encoded"
   ]
  },
  {
   "cell_type": "code",
   "execution_count": 17,
   "metadata": {},
   "outputs": [],
   "source": [
    "# concat encoded and scaled training dataset\n",
    "X_train_fin = np.concatenate((X_train_encoded, X_train_scaled), axis=1 )"
   ]
  },
  {
   "cell_type": "code",
   "execution_count": 18,
   "metadata": {},
   "outputs": [],
   "source": [
    "# concat encoded and scaled test dataset\n",
    "X_test_fin = np.concatenate((X_test_encoded, X_test_scaled), axis=1 )"
   ]
  },
  {
   "cell_type": "markdown",
   "metadata": {},
   "source": [
    "# III. Model"
   ]
  },
  {
   "cell_type": "code",
   "execution_count": 19,
   "metadata": {},
   "outputs": [],
   "source": [
    "# Define model\n",
    "model = RandomForestClassifier()"
   ]
  },
  {
   "cell_type": "code",
   "execution_count": 20,
   "metadata": {},
   "outputs": [
    {
     "data": {
      "text/html": [
       "<style>#sk-container-id-1 {color: black;background-color: white;}#sk-container-id-1 pre{padding: 0;}#sk-container-id-1 div.sk-toggleable {background-color: white;}#sk-container-id-1 label.sk-toggleable__label {cursor: pointer;display: block;width: 100%;margin-bottom: 0;padding: 0.3em;box-sizing: border-box;text-align: center;}#sk-container-id-1 label.sk-toggleable__label-arrow:before {content: \"▸\";float: left;margin-right: 0.25em;color: #696969;}#sk-container-id-1 label.sk-toggleable__label-arrow:hover:before {color: black;}#sk-container-id-1 div.sk-estimator:hover label.sk-toggleable__label-arrow:before {color: black;}#sk-container-id-1 div.sk-toggleable__content {max-height: 0;max-width: 0;overflow: hidden;text-align: left;background-color: #f0f8ff;}#sk-container-id-1 div.sk-toggleable__content pre {margin: 0.2em;color: black;border-radius: 0.25em;background-color: #f0f8ff;}#sk-container-id-1 input.sk-toggleable__control:checked~div.sk-toggleable__content {max-height: 200px;max-width: 100%;overflow: auto;}#sk-container-id-1 input.sk-toggleable__control:checked~label.sk-toggleable__label-arrow:before {content: \"▾\";}#sk-container-id-1 div.sk-estimator input.sk-toggleable__control:checked~label.sk-toggleable__label {background-color: #d4ebff;}#sk-container-id-1 div.sk-label input.sk-toggleable__control:checked~label.sk-toggleable__label {background-color: #d4ebff;}#sk-container-id-1 input.sk-hidden--visually {border: 0;clip: rect(1px 1px 1px 1px);clip: rect(1px, 1px, 1px, 1px);height: 1px;margin: -1px;overflow: hidden;padding: 0;position: absolute;width: 1px;}#sk-container-id-1 div.sk-estimator {font-family: monospace;background-color: #f0f8ff;border: 1px dotted black;border-radius: 0.25em;box-sizing: border-box;margin-bottom: 0.5em;}#sk-container-id-1 div.sk-estimator:hover {background-color: #d4ebff;}#sk-container-id-1 div.sk-parallel-item::after {content: \"\";width: 100%;border-bottom: 1px solid gray;flex-grow: 1;}#sk-container-id-1 div.sk-label:hover label.sk-toggleable__label {background-color: #d4ebff;}#sk-container-id-1 div.sk-serial::before {content: \"\";position: absolute;border-left: 1px solid gray;box-sizing: border-box;top: 0;bottom: 0;left: 50%;z-index: 0;}#sk-container-id-1 div.sk-serial {display: flex;flex-direction: column;align-items: center;background-color: white;padding-right: 0.2em;padding-left: 0.2em;position: relative;}#sk-container-id-1 div.sk-item {position: relative;z-index: 1;}#sk-container-id-1 div.sk-parallel {display: flex;align-items: stretch;justify-content: center;background-color: white;position: relative;}#sk-container-id-1 div.sk-item::before, #sk-container-id-1 div.sk-parallel-item::before {content: \"\";position: absolute;border-left: 1px solid gray;box-sizing: border-box;top: 0;bottom: 0;left: 50%;z-index: -1;}#sk-container-id-1 div.sk-parallel-item {display: flex;flex-direction: column;z-index: 1;position: relative;background-color: white;}#sk-container-id-1 div.sk-parallel-item:first-child::after {align-self: flex-end;width: 50%;}#sk-container-id-1 div.sk-parallel-item:last-child::after {align-self: flex-start;width: 50%;}#sk-container-id-1 div.sk-parallel-item:only-child::after {width: 0;}#sk-container-id-1 div.sk-dashed-wrapped {border: 1px dashed gray;margin: 0 0.4em 0.5em 0.4em;box-sizing: border-box;padding-bottom: 0.4em;background-color: white;}#sk-container-id-1 div.sk-label label {font-family: monospace;font-weight: bold;display: inline-block;line-height: 1.2em;}#sk-container-id-1 div.sk-label-container {text-align: center;}#sk-container-id-1 div.sk-container {/* jupyter's `normalize.less` sets `[hidden] { display: none; }` but bootstrap.min.css set `[hidden] { display: none !important; }` so we also need the `!important` here to be able to override the default hidden behavior on the sphinx rendered scikit-learn.org. See: https://github.com/scikit-learn/scikit-learn/issues/21755 */display: inline-block !important;position: relative;}#sk-container-id-1 div.sk-text-repr-fallback {display: none;}</style><div id=\"sk-container-id-1\" class=\"sk-top-container\"><div class=\"sk-text-repr-fallback\"><pre>RandomForestClassifier()</pre><b>In a Jupyter environment, please rerun this cell to show the HTML representation or trust the notebook. <br />On GitHub, the HTML representation is unable to render, please try loading this page with nbviewer.org.</b></div><div class=\"sk-container\" hidden><div class=\"sk-item\"><div class=\"sk-estimator sk-toggleable\"><input class=\"sk-toggleable__control sk-hidden--visually\" id=\"sk-estimator-id-1\" type=\"checkbox\" checked><label for=\"sk-estimator-id-1\" class=\"sk-toggleable__label sk-toggleable__label-arrow\">RandomForestClassifier</label><div class=\"sk-toggleable__content\"><pre>RandomForestClassifier()</pre></div></div></div></div></div>"
      ],
      "text/plain": [
       "RandomForestClassifier()"
      ]
     },
     "execution_count": 20,
     "metadata": {},
     "output_type": "execute_result"
    }
   ],
   "source": [
    "# fit model\n",
    "model.fit(X_train_fin, y_train)"
   ]
  },
  {
   "cell_type": "code",
   "execution_count": 21,
   "metadata": {},
   "outputs": [],
   "source": [
    "# Predict the dataset\n",
    "y_train_pred=model.predict(X_train_fin)\n",
    "y_test_pred=model.predict(X_test_fin)"
   ]
  },
  {
   "cell_type": "code",
   "execution_count": 22,
   "metadata": {},
   "outputs": [
    {
     "name": "stdout",
     "output_type": "stream",
     "text": [
      "              precision    recall  f1-score   support\n",
      "\n",
      "        loss       0.92      0.94      0.93      1393\n",
      "         win       0.90      0.87      0.89       866\n",
      "\n",
      "    accuracy                           0.91      2259\n",
      "   macro avg       0.91      0.91      0.91      2259\n",
      "weighted avg       0.91      0.91      0.91      2259\n",
      "\n"
     ]
    }
   ],
   "source": [
    "# Evaluate training model\n",
    "print(classification_report(y_train,y_train_pred))"
   ]
  },
  {
   "cell_type": "code",
   "execution_count": 23,
   "metadata": {},
   "outputs": [
    {
     "name": "stdout",
     "output_type": "stream",
     "text": [
      "              precision    recall  f1-score   support\n",
      "\n",
      "        loss       0.72      0.84      0.77       114\n",
      "         win       0.64      0.46      0.53        70\n",
      "\n",
      "    accuracy                           0.70       184\n",
      "   macro avg       0.68      0.65      0.65       184\n",
      "weighted avg       0.69      0.70      0.68       184\n",
      "\n"
     ]
    }
   ],
   "source": [
    "# Evaluate test model\n",
    "print(classification_report(y_test,y_test_pred))"
   ]
  },
  {
   "cell_type": "markdown",
   "metadata": {},
   "source": [
    "# IV. Inferences"
   ]
  },
  {
   "cell_type": "markdown",
   "metadata": {},
   "source": [
    "## IV.I. Saving models"
   ]
  },
  {
   "cell_type": "code",
   "execution_count": 24,
   "metadata": {},
   "outputs": [],
   "source": [
    "with open('model.pkl', 'wb') as file_1:\n",
    "  joblib.dump(model, file_1)\n",
    "\n",
    "with open('model_scaler.pkl', 'wb') as file_2:\n",
    "  joblib.dump(scaler, file_2)\n",
    "\n",
    "with open('model_encoder.pkl', 'wb') as file_3:\n",
    "  joblib.dump(encoder, file_3)\n",
    "\n",
    "with open('list_num.txt', 'w') as file_4:\n",
    "  json.dump(num_columns, file_4)\n",
    "\n",
    "with open('list_cat.txt', 'w') as file_5:\n",
    "  json.dump(cat_columns, file_5)"
   ]
  },
  {
   "cell_type": "markdown",
   "metadata": {},
   "source": [
    "## IV.II. Preprocessing inferences"
   ]
  },
  {
   "cell_type": "code",
   "execution_count": 25,
   "metadata": {},
   "outputs": [
    {
     "data": {
      "text/html": [
       "<div>\n",
       "<style scoped>\n",
       "    .dataframe tbody tr th:only-of-type {\n",
       "        vertical-align: middle;\n",
       "    }\n",
       "\n",
       "    .dataframe tbody tr th {\n",
       "        vertical-align: top;\n",
       "    }\n",
       "\n",
       "    .dataframe thead th {\n",
       "        text-align: right;\n",
       "    }\n",
       "</style>\n",
       "<table border=\"1\" class=\"dataframe\">\n",
       "  <thead>\n",
       "    <tr style=\"text-align: right;\">\n",
       "      <th></th>\n",
       "      <th>EntryPrice</th>\n",
       "      <th>win_loss</th>\n",
       "      <th>long_short</th>\n",
       "      <th>entry_month</th>\n",
       "      <th>entry_date</th>\n",
       "      <th>entry_day</th>\n",
       "      <th>entry_hour</th>\n",
       "    </tr>\n",
       "  </thead>\n",
       "  <tbody>\n",
       "    <tr>\n",
       "      <th>423</th>\n",
       "      <td>1.42397</td>\n",
       "      <td>win</td>\n",
       "      <td>long</td>\n",
       "      <td>8</td>\n",
       "      <td>19</td>\n",
       "      <td>2</td>\n",
       "      <td>12</td>\n",
       "    </tr>\n",
       "    <tr>\n",
       "      <th>1685</th>\n",
       "      <td>1.07869</td>\n",
       "      <td>win</td>\n",
       "      <td>short</td>\n",
       "      <td>3</td>\n",
       "      <td>29</td>\n",
       "      <td>2</td>\n",
       "      <td>4</td>\n",
       "    </tr>\n",
       "    <tr>\n",
       "      <th>2351</th>\n",
       "      <td>1.19262</td>\n",
       "      <td>loss</td>\n",
       "      <td>long</td>\n",
       "      <td>6</td>\n",
       "      <td>24</td>\n",
       "      <td>3</td>\n",
       "      <td>8</td>\n",
       "    </tr>\n",
       "  </tbody>\n",
       "</table>\n",
       "</div>"
      ],
      "text/plain": [
       "      EntryPrice win_loss long_short  entry_month  entry_date  entry_day  \\\n",
       "423      1.42397      win       long            8          19          2   \n",
       "1685     1.07869      win      short            3          29          2   \n",
       "2351     1.19262     loss       long            6          24          3   \n",
       "\n",
       "      entry_hour  \n",
       "423           12  \n",
       "1685           4  \n",
       "2351           8  "
      ]
     },
     "execution_count": 25,
     "metadata": {},
     "output_type": "execute_result"
    }
   ],
   "source": [
    "# Summarize inference dataset\n",
    "data_inf.sample(3)"
   ]
  },
  {
   "cell_type": "code",
   "execution_count": 26,
   "metadata": {},
   "outputs": [],
   "source": [
    "# Reseting index\n",
    "data_inf.reset_index(inplace=True)"
   ]
  },
  {
   "cell_type": "code",
   "execution_count": 27,
   "metadata": {},
   "outputs": [],
   "source": [
    "# Encoding and scaling the dataset\n",
    "inf_scaled = scaler.transform(data_inf[num_columns])\n",
    "inf_encoded = encoder.transform(data_inf[cat_columns])"
   ]
  },
  {
   "cell_type": "code",
   "execution_count": 28,
   "metadata": {},
   "outputs": [
    {
     "data": {
      "text/plain": [
       "array([[ 0.        ,  1.        ,  0.72129468, -0.52142605, -0.86992188,\n",
       "        -0.67447028, -0.36582621],\n",
       "       [ 1.        ,  0.        , -1.53651169, -1.390726  ,  0.85218497,\n",
       "         0.54883631,  1.66797543],\n",
       "       [ 0.        ,  1.        , -1.37411425, -1.10095935,  1.54102771,\n",
       "        -0.06281698, -1.04376009],\n",
       "       [ 1.        ,  0.        ,  0.61565603,  0.34787391, -0.52550051,\n",
       "        -1.28612358, -0.36582621],\n",
       "       [ 0.        ,  1.        ,  0.4732236 ,  1.50694051,  0.62257072,\n",
       "         1.16048961, -1.72169397],\n",
       "       [ 0.        ,  1.        , -0.58882355,  1.21717386, -0.64030763,\n",
       "        -0.67447028, -0.36582621],\n",
       "       [ 0.        ,  1.        , -0.63762693,  0.34787391, -0.06627202,\n",
       "        -0.67447028, -1.04376009],\n",
       "       [ 1.        ,  0.        , -0.90153233,  1.21717386,  0.73737784,\n",
       "         0.54883631, -1.72169397],\n",
       "       [ 0.        ,  1.        , -0.98621155,  0.63764056,  0.04853511,\n",
       "        -0.06281698, -0.36582621],\n",
       "       [ 1.        ,  0.        , -0.93962651,  1.50694051,  0.16334223,\n",
       "        -1.28612358,  0.31210767],\n",
       "       [ 0.        ,  1.        ,  1.63899705,  0.92740721,  1.65583483,\n",
       "         1.16048961,  0.31210767],\n",
       "       [ 0.        ,  1.        , -1.00854789, -0.23165939,  0.85218497,\n",
       "        -0.67447028, -1.72169397],\n",
       "       [ 1.        ,  0.        , -0.50261445, -0.23165939,  0.96699209,\n",
       "         0.54883631, -0.36582621],\n",
       "       [ 1.        ,  0.        ,  1.38832516,  1.50694051,  0.96699209,\n",
       "        -1.28612358,  0.31210767],\n",
       "       [ 0.        ,  1.        ,  0.3627658 , -0.8111927 ,  0.27814935,\n",
       "         0.54883631,  0.99004155],\n",
       "       [ 1.        ,  0.        ,  0.28068739,  0.63764056,  0.04853511,\n",
       "        -0.67447028,  0.99004155],\n",
       "       [ 1.        ,  0.        , -1.47072658, -0.8111927 , -0.18107914,\n",
       "        -0.67447028,  0.31210767],\n",
       "       [ 0.        ,  1.        , -0.64978952,  1.21717386,  0.5077636 ,\n",
       "        -1.28612358,  0.99004155],\n",
       "       [ 1.        ,  0.        ,  0.75946535,  0.92740721, -0.984729  ,\n",
       "        -1.28612358, -1.04376009],\n",
       "       [ 1.        ,  0.        , -1.0649242 , -0.52142605, -0.75511476,\n",
       "         0.54883631, -1.04376009],\n",
       "       [ 1.        ,  0.        ,  1.56242623, -0.23165939, -0.86992188,\n",
       "        -0.06281698,  1.66797543],\n",
       "       [ 0.        ,  1.        , -0.90222078,  0.05810726, -0.29588626,\n",
       "         0.54883631, -0.36582621],\n",
       "       [ 0.        ,  1.        ,  0.59056589,  0.92740721, -1.21434325,\n",
       "        -0.06281698,  0.31210767],\n",
       "       [ 1.        ,  0.        ,  0.81148149, -1.390726  ,  0.62257072,\n",
       "         2.3837962 ,  1.66797543],\n",
       "       [ 1.        ,  0.        , -1.02598859,  0.63764056, -0.06627202,\n",
       "         0.54883631, -0.36582621],\n",
       "       [ 0.        ,  1.        ,  1.09535191,  0.05810726, -1.55876462,\n",
       "         0.54883631, -0.36582621],\n",
       "       [ 0.        ,  1.        , -1.03562688,  0.63764056, -1.55876462,\n",
       "        -0.06281698, -0.36582621],\n",
       "       [ 1.        ,  0.        ,  0.78126623, -0.23165939,  0.96699209,\n",
       "        -0.67447028,  0.99004155],\n",
       "       [ 0.        ,  1.        , -1.00288731, -0.23165939,  0.04853511,\n",
       "        -0.67447028,  0.31210767],\n",
       "       [ 1.        ,  0.        ,  1.39941684,  0.34787391, -1.67357174,\n",
       "        -1.28612358, -1.72169397],\n",
       "       [ 0.        ,  1.        ,  0.88223873, -1.10095935, -1.4439575 ,\n",
       "        -1.28612358,  0.99004155],\n",
       "       [ 0.        ,  1.        , -1.04671856,  0.63764056, -0.29588626,\n",
       "        -0.67447028,  0.99004155],\n",
       "       [ 0.        ,  1.        , -1.08091152, -1.68049265, -1.55876462,\n",
       "         0.54883631,  0.31210767],\n",
       "       [ 0.        ,  1.        ,  0.32207082, -0.8111927 ,  1.19660634,\n",
       "         1.16048961, -1.04376009],\n",
       "       [ 1.        ,  0.        ,  0.21436682,  0.63764056,  0.85218497,\n",
       "        -0.67447028, -0.36582621],\n",
       "       [ 1.        ,  0.        , -0.14148476,  1.50694051, -0.52550051,\n",
       "         0.54883631,  1.66797543],\n",
       "       [ 1.        ,  0.        , -0.08671483,  1.21717386,  1.31141346,\n",
       "         0.54883631,  0.31210767],\n",
       "       [ 0.        ,  1.        , -0.16481553, -0.8111927 ,  0.16334223,\n",
       "        -0.67447028,  0.31210767],\n",
       "       [ 1.        ,  0.        ,  2.25370541, -0.52142605, -1.09953613,\n",
       "        -0.67447028,  0.31210767],\n",
       "       [ 0.        ,  1.        , -0.61483162,  0.34787391,  0.62257072,\n",
       "         1.16048961, -0.36582621],\n",
       "       [ 0.        ,  1.        , -0.19426584, -0.8111927 , -0.41069339,\n",
       "         0.54883631,  1.66797543],\n",
       "       [ 1.        ,  0.        , -0.72773724,  0.63764056, -0.41069339,\n",
       "        -0.06281698,  0.31210767],\n",
       "       [ 0.        ,  1.        ,  1.56365014,  0.63764056,  1.42622058,\n",
       "        -1.28612358, -1.72169397],\n",
       "       [ 0.        ,  1.        ,  0.88912322, -1.390726  ,  0.62257072,\n",
       "         1.16048961, -0.36582621],\n",
       "       [ 0.        ,  1.        , -0.21453684, -1.10095935, -0.06627202,\n",
       "         0.54883631,  0.31210767],\n",
       "       [ 1.        ,  0.        ,  1.3110659 ,  0.63764056, -1.09953613,\n",
       "         2.3837962 ,  0.31210767],\n",
       "       [ 0.        ,  1.        ,  1.20152603, -0.23165939, -1.4439575 ,\n",
       "        -0.06281698,  0.99004155],\n",
       "       [ 0.        ,  1.        , -0.62768267,  0.34787391,  0.73737784,\n",
       "        -0.67447028, -0.36582621],\n",
       "       [ 1.        ,  0.        ,  1.36063422,  0.05810726,  1.54102771,\n",
       "         1.16048961,  0.31210767],\n",
       "       [ 0.        ,  1.        ,  0.86089682, -0.52142605,  0.39295647,\n",
       "        -1.28612358,  0.99004155],\n",
       "       [ 0.        ,  1.        , -0.99669127,  1.50694051, -1.09953613,\n",
       "        -1.28612358, -1.72169397],\n",
       "       [ 0.        ,  1.        , -0.61207782,  0.34787391, -0.18107914,\n",
       "        -1.28612358,  0.31210767],\n",
       "       [ 0.        ,  1.        , -1.12122402, -0.23165939, -1.21434325,\n",
       "         1.16048961,  0.31210767],\n",
       "       [ 1.        ,  0.        , -0.93404242, -1.68049265,  1.42622058,\n",
       "        -0.06281698, -1.04376009],\n",
       "       [ 1.        ,  0.        ,  0.67776941,  1.50694051, -1.21434325,\n",
       "        -1.28612358, -0.36582621],\n",
       "       [ 0.        ,  1.        , -0.86382063, -1.68049265, -0.06627202,\n",
       "        -0.67447028, -0.36582621],\n",
       "       [ 0.        ,  1.        , -0.99669127,  1.50694051, -1.09953613,\n",
       "        -1.28612358, -1.72169397],\n",
       "       [ 0.        ,  1.        , -0.19395987, -1.10095935, -0.29588626,\n",
       "        -0.67447028, -1.04376009],\n",
       "       [ 0.        ,  1.        ,  1.59585425,  1.21717386,  0.5077636 ,\n",
       "        -0.67447028, -1.72169397],\n",
       "       [ 0.        ,  1.        ,  1.01572132,  0.05810726, -0.984729  ,\n",
       "        -0.67447028,  0.99004155],\n",
       "       [ 1.        ,  0.        , -1.18915098,  0.63764056, -1.32915037,\n",
       "        -0.06281698, -0.36582621],\n",
       "       [ 1.        ,  0.        , -0.99378449, -0.8111927 , -0.41069339,\n",
       "         1.16048961, -1.72169397],\n",
       "       [ 1.        ,  0.        ,  0.31357995, -0.23165939, -1.55876462,\n",
       "         2.3837962 ,  0.31210767],\n",
       "       [ 1.        ,  0.        , -0.64405245,  0.92740721, -0.75511476,\n",
       "        -1.28612358,  0.99004155],\n",
       "       [ 0.        ,  1.        ,  0.57847979,  0.34787391,  1.42622058,\n",
       "        -0.06281698, -0.36582621],\n",
       "       [ 0.        ,  1.        , -1.14639066,  1.50694051,  1.19660634,\n",
       "         0.54883631, -1.04376009],\n",
       "       [ 0.        ,  1.        ,  1.01029023, -0.23165939,  1.08179921,\n",
       "         0.54883631, -0.36582621],\n",
       "       [ 1.        ,  0.        , -0.72681931, -0.23165939,  1.54102771,\n",
       "         1.16048961, -1.72169397],\n",
       "       [ 1.        ,  0.        ,  0.67157337, -0.8111927 , -1.21434325,\n",
       "        -1.28612358, -1.72169397],\n",
       "       [ 1.        ,  0.        , -1.02621808, -0.8111927 , -1.4439575 ,\n",
       "        -0.06281698,  0.99004155],\n",
       "       [ 1.        ,  0.        , -1.16880349,  0.63764056,  0.39295647,\n",
       "         0.54883631, -0.36582621],\n",
       "       [ 0.        ,  1.        , -0.12526797, -0.52142605,  0.5077636 ,\n",
       "         0.54883631, -1.72169397],\n",
       "       [ 0.        ,  1.        , -0.26288125, -1.68049265, -1.4439575 ,\n",
       "         2.3837962 ,  0.31210767],\n",
       "       [ 0.        ,  1.        , -0.25087164, -0.52142605,  1.77064195,\n",
       "        -1.28612358,  1.66797543],\n",
       "       [ 1.        ,  0.        ,  0.75212189, -0.23165939,  0.04853511,\n",
       "        -1.28612358,  0.31210767],\n",
       "       [ 1.        ,  0.        , -0.41456949, -0.8111927 ,  0.39295647,\n",
       "        -1.28612358, -1.04376009],\n",
       "       [ 0.        ,  1.        ,  1.02964329,  0.92740721,  0.73737784,\n",
       "         1.16048961, -1.72169397],\n",
       "       [ 1.        ,  0.        ,  1.0430298 , -0.23165939,  0.62257072,\n",
       "         2.3837962 ,  0.31210767],\n",
       "       [ 0.        ,  1.        ,  0.8423087 , -1.10095935,  0.27814935,\n",
       "         0.54883631, -1.04376009],\n",
       "       [ 1.        ,  0.        ,  0.27747463, -1.390726  , -0.52550051,\n",
       "        -0.06281698, -1.04376009],\n",
       "       [ 0.        ,  1.        ,  0.29361493,  0.92740721, -0.86992188,\n",
       "        -1.28612358, -0.36582621],\n",
       "       [ 0.        ,  1.        , -0.64787717,  1.21717386,  0.5077636 ,\n",
       "        -1.28612358, -1.72169397],\n",
       "       [ 1.        ,  0.        ,  1.26708166,  0.34787391,  0.39295647,\n",
       "        -0.06281698,  0.31210767],\n",
       "       [ 1.        ,  0.        , -1.09689883,  0.34787391, -0.75511476,\n",
       "        -0.67447028,  1.66797543],\n",
       "       [ 1.        ,  0.        ,  0.05961881,  0.92740721, -0.29588626,\n",
       "        -1.28612358, -1.72169397],\n",
       "       [ 0.        ,  1.        ,  1.23097634,  1.50694051,  1.65583483,\n",
       "        -0.67447028, -1.04376009],\n",
       "       [ 1.        ,  0.        ,  2.22601447, -0.52142605, -1.09953613,\n",
       "        -0.67447028, -1.72169397],\n",
       "       [ 1.        ,  0.        , -1.05115523,  0.63764056, -0.29588626,\n",
       "        -0.67447028,  0.31210767],\n",
       "       [ 0.        ,  1.        ,  0.86548648, -1.390726  ,  0.5077636 ,\n",
       "         0.54883631, -0.36582621],\n",
       "       [ 1.        ,  0.        , -0.97680275, -0.8111927 ,  0.16334223,\n",
       "        -0.06281698, -1.72169397],\n",
       "       [ 1.        ,  0.        , -0.55004093,  0.05810726, -0.75511476,\n",
       "         1.16048961, -0.36582621],\n",
       "       [ 0.        ,  1.        , -1.20223151, -0.52142605,  0.73737784,\n",
       "         1.16048961,  0.31210767],\n",
       "       [ 1.        ,  0.        ,  0.77675306, -1.390726  ,  0.85218497,\n",
       "        -0.67447028, -1.04376009],\n",
       "       [ 1.        ,  0.        , -1.3209507 , -1.390726  ,  0.62257072,\n",
       "         1.16048961,  0.31210767],\n",
       "       [ 0.        ,  1.        , -1.04228189,  0.63764056,  1.31141346,\n",
       "        -0.67447028,  0.31210767],\n",
       "       [ 0.        ,  1.        ,  0.35396895,  1.50694051,  0.73737784,\n",
       "         0.54883631, -0.36582621],\n",
       "       [ 1.        ,  0.        ,  0.30478311, -1.68049265, -1.4439575 ,\n",
       "        -0.67447028, -1.72169397],\n",
       "       [ 0.        ,  1.        ,  1.13084528,  0.05810726, -1.67357174,\n",
       "        -0.06281698, -1.72169397],\n",
       "       [ 0.        ,  1.        , -0.77355734,  0.92740721, -0.52550051,\n",
       "        -1.28612358, -0.36582621],\n",
       "       [ 1.        ,  0.        ,  0.09587711,  0.92740721,  1.31141346,\n",
       "        -1.28612358,  0.31210767],\n",
       "       [ 0.        ,  1.        , -0.95293652,  0.34787391,  1.19660634,\n",
       "        -0.06281698,  0.99004155],\n",
       "       [ 1.        ,  0.        , -1.34328704, -1.68049265,  1.19660634,\n",
       "        -0.67447028, -1.04376009],\n",
       "       [ 1.        ,  0.        , -1.33043599, -1.68049265, -0.984729  ,\n",
       "         0.54883631, -0.36582621],\n",
       "       [ 0.        ,  1.        ,  1.19777781,  0.63764056,  0.04853511,\n",
       "        -0.67447028,  0.31210767],\n",
       "       [ 1.        ,  0.        ,  0.62491184,  1.50694051, -0.984729  ,\n",
       "        -0.06281698,  1.66797543],\n",
       "       [ 0.        ,  1.        ,  1.22462731,  0.92740721,  0.16334223,\n",
       "        -0.06281698, -1.72169397],\n",
       "       [ 0.        ,  1.        , -0.39536941, -0.8111927 ,  1.42622058,\n",
       "        -0.06281698, -1.04376009],\n",
       "       [ 0.        ,  1.        ,  0.98657699, -1.10095935, -0.86992188,\n",
       "        -0.67447028, -0.36582621],\n",
       "       [ 1.        ,  0.        ,  1.19395309,  0.05810726, -0.29588626,\n",
       "        -0.06281698,  0.31210767],\n",
       "       [ 1.        ,  0.        ,  1.22929347,  0.05810726,  0.39295647,\n",
       "        -0.67447028, -0.36582621],\n",
       "       [ 1.        ,  0.        ,  0.81377632,  0.63764056,  1.31141346,\n",
       "        -0.67447028,  0.31210767],\n",
       "       [ 1.        ,  0.        , -0.98659402,  1.21717386,  1.19660634,\n",
       "         1.16048961, -0.36582621],\n",
       "       [ 0.        ,  1.        ,  0.97097215, -0.52142605, -0.86992188,\n",
       "         0.54883631,  0.31210767],\n",
       "       [ 1.        ,  0.        ,  0.62491184,  1.50694051, -0.984729  ,\n",
       "        -0.06281698,  1.66797543],\n",
       "       [ 1.        ,  0.        ,  0.36268931, -1.10095935, -1.09953613,\n",
       "        -0.06281698, -1.72169397],\n",
       "       [ 1.        ,  0.        , -0.73378029,  0.63764056, -1.21434325,\n",
       "        -0.06281698,  0.31210767],\n",
       "       [ 0.        ,  1.        ,  0.6753216 , -1.10095935,  1.08179921,\n",
       "        -0.06281698, -1.72169397],\n",
       "       [ 0.        ,  1.        ,  1.20152603, -0.23165939, -1.4439575 ,\n",
       "        -0.06281698,  0.99004155],\n",
       "       [ 0.        ,  1.        , -1.16367837,  1.21717386,  0.62257072,\n",
       "         0.54883631,  0.99004155],\n",
       "       [ 1.        ,  0.        , -0.72620735, -0.23165939,  1.31141346,\n",
       "        -0.06281698, -1.04376009],\n",
       "       [ 0.        ,  1.        , -1.10439527, -1.68049265,  0.16334223,\n",
       "         1.16048961, -1.72169397],\n",
       "       [ 0.        ,  1.        , -1.09674584, -0.23165939, -1.55876462,\n",
       "         0.54883631,  0.31210767]])"
      ]
     },
     "execution_count": 28,
     "metadata": {},
     "output_type": "execute_result"
    }
   ],
   "source": [
    "# Concat encoded and scaled dataset\n",
    "X_inf = np.concatenate((inf_encoded, inf_scaled), axis=1 )\n",
    "X_inf"
   ]
  },
  {
   "cell_type": "code",
   "execution_count": 29,
   "metadata": {},
   "outputs": [
    {
     "data": {
      "text/plain": [
       "array(['win', 'win', 'win', 'loss', 'loss', 'loss', 'loss', 'loss',\n",
       "       'loss', 'win', 'loss', 'win', 'loss', 'win', 'loss', 'loss',\n",
       "       'loss', 'loss', 'loss', 'win', 'loss', 'loss', 'loss', 'loss',\n",
       "       'loss', 'win', 'win', 'win', 'win', 'loss', 'loss', 'loss', 'loss',\n",
       "       'win', 'loss', 'loss', 'loss', 'win', 'loss', 'loss', 'win', 'win',\n",
       "       'loss', 'loss', 'loss', 'win', 'loss', 'loss', 'loss', 'win',\n",
       "       'loss', 'loss', 'loss', 'loss', 'loss', 'win', 'loss', 'loss',\n",
       "       'win', 'loss', 'loss', 'loss', 'win', 'win', 'win', 'loss', 'loss',\n",
       "       'win', 'win', 'win', 'loss', 'win', 'win', 'win', 'win', 'loss',\n",
       "       'loss', 'win', 'win', 'loss', 'win', 'loss', 'win', 'win', 'loss',\n",
       "       'win', 'loss', 'win', 'loss', 'loss', 'loss', 'loss', 'loss',\n",
       "       'win', 'loss', 'loss', 'loss', 'win', 'loss', 'loss', 'win', 'win',\n",
       "       'loss', 'loss', 'loss', 'loss', 'loss', 'loss', 'loss', 'win',\n",
       "       'loss', 'win', 'win', 'loss', 'loss', 'loss', 'loss', 'loss',\n",
       "       'win', 'win', 'win', 'loss'], dtype=object)"
      ]
     },
     "execution_count": 29,
     "metadata": {},
     "output_type": "execute_result"
    }
   ],
   "source": [
    "# predict the dataset\n",
    "inf_pred = model.predict(X_inf)\n",
    "inf_pred"
   ]
  },
  {
   "cell_type": "code",
   "execution_count": 30,
   "metadata": {},
   "outputs": [
    {
     "name": "stdout",
     "output_type": "stream",
     "text": [
      "              precision    recall  f1-score   support\n",
      "\n",
      "        loss       0.87      0.97      0.92        68\n",
      "         win       0.96      0.81      0.88        54\n",
      "\n",
      "    accuracy                           0.90       122\n",
      "   macro avg       0.91      0.89      0.90       122\n",
      "weighted avg       0.91      0.90      0.90       122\n",
      "\n"
     ]
    }
   ],
   "source": [
    "# Evaluate test model\n",
    "print(classification_report(data_inf['win_loss'],inf_pred))"
   ]
  },
  {
   "cell_type": "code",
   "execution_count": 31,
   "metadata": {},
   "outputs": [
    {
     "name": "stdout",
     "output_type": "stream",
     "text": [
      "0.9565217391304348\n"
     ]
    }
   ],
   "source": [
    "# Evaluate test model\n",
    "print(precision_score(data_inf['win_loss'], inf_pred, pos_label='win'))"
   ]
  }
 ],
 "metadata": {
  "kernelspec": {
   "display_name": "Python 3.9.12 ('venv': venv)",
   "language": "python",
   "name": "python3"
  },
  "language_info": {
   "codemirror_mode": {
    "name": "ipython",
    "version": 3
   },
   "file_extension": ".py",
   "mimetype": "text/x-python",
   "name": "python",
   "nbconvert_exporter": "python",
   "pygments_lexer": "ipython3",
   "version": "3.9.12"
  },
  "orig_nbformat": 4,
  "vscode": {
   "interpreter": {
    "hash": "d6fdc46d709f94a4dde9dbbe3af85312113520ec750b767d8430be26c137ce87"
   }
  }
 },
 "nbformat": 4,
 "nbformat_minor": 2
}
